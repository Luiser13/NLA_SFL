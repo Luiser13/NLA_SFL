{
 "cells": [
  {
   "cell_type": "markdown",
   "metadata": {},
   "source": [
    "# Imports section"
   ]
  },
  {
   "cell_type": "code",
   "execution_count": 1,
   "metadata": {},
   "outputs": [],
   "source": [
    "from scipy.special import ellipe as ellipse\n",
    "from scipy.special import erf as erf\n",
    "import numpy as np"
   ]
  },
  {
   "cell_type": "markdown",
   "metadata": {},
   "source": [
    "# Integration Question 1"
   ]
  },
  {
   "cell_type": "markdown",
   "metadata": {},
   "source": [
    "### Here we compute $$ \\int_{-\\sigma k}^{\\sigma k} f(x) dx \\approx 2 \\cdot \\frac{h}{3} \\left[ f_0 + 4\\sum_{\\substack{i=1 \\\\ i \\text{ odd}}}^{N-1} + 2\\sum_{\\substack{i=2 \\\\ i \\text{ even}}}^{N-2} + f_N\\right]$$"
   ]
  },
  {
   "cell_type": "code",
   "execution_count": 2,
   "metadata": {},
   "outputs": [
    {
     "name": "stdout",
     "output_type": "stream",
     "text": [
      "Probability that a normally distributed variable lies in:\n",
      " [-1.0, 1.0] ≈ 0.682689\n",
      " [-2.0, 2.0] ≈ 0.954500\n",
      " [-3.0, 3.0] ≈ 0.997300\n"
     ]
    }
   ],
   "source": [
    "def normal_pdf(t):\n",
    "    \"\"\"\n",
    "    Standardized normal probability density function\n",
    "    \"\"\"\n",
    "    return(1 / np.sqrt(2 * np.pi)) * np.exp(-t**2 / 2)\n",
    "\n",
    "def simpson_rule(f, a, b, N):\n",
    "    \"\"\"\n",
    "    We approximate the integral of f form a to b using Simpson's Composite Rule,\n",
    "    Note that N must be even\n",
    "    \"\"\"\n",
    "    if N%2 != 0:\n",
    "        raise ValueError(\"N must be even\")\n",
    "\n",
    "    h = (b - a)/N\n",
    "    s = f(a) + f(b)\n",
    "\n",
    "    #We apply Simpson's coefficient\n",
    "\n",
    "    for i in range(1,N):\n",
    "        t = a + i*h\n",
    "        if i%2 == 0:\n",
    "            s += 2 * f(t)\n",
    "        else:\n",
    "            s += 4 * f(t)\n",
    "\n",
    "    return (h/3) * s\n",
    "\n",
    "#Std value \n",
    "sigma = 1.0\n",
    "\n",
    "#Values of k\n",
    "k_vals = [1,2,3]\n",
    "\n",
    "#Number of sub-intervals\n",
    "N = 1000\n",
    "\n",
    "print(\"Probability that a normally distributed variable lies in:\")\n",
    "for k in k_vals:\n",
    "    #We recall the variable change x = sigma * t\n",
    "    #Remember to * 2 for symmetry\n",
    "    integral_hlf = simpson_rule(normal_pdf, 0, k, N)\n",
    "    probability = 2 * integral_hlf\n",
    "    print(f\" [{-k*sigma}, {k*sigma}] ≈ {probability:.6f}\")"
   ]
  },
  {
   "cell_type": "markdown",
   "metadata": {},
   "source": [
    "### Comparing to the actual values using the error function $$ \\Phi(x) = \\frac{1}{2} \\left[ 1 + erf(\\frac{x}{\\sqrt{2}}) \\right ]$$"
   ]
  },
  {
   "cell_type": "code",
   "execution_count": 6,
   "metadata": {},
   "outputs": [
    {
     "name": "stdout",
     "output_type": "stream",
     "text": [
      "Exact probability that X lies in [ -1, 1]: 0.682689\n",
      "Exact probability that X lies in [ -2, 2]: 0.954500\n",
      "Exact probability that X lies in [ -3, 3]: 0.997300\n"
     ]
    }
   ],
   "source": [
    "def exact_normal_probability(k):\n",
    "    return erf(k / np.sqrt(2))\n",
    "\n",
    "for k in k_vals:\n",
    "    prob = exact_normal_probability(k)\n",
    "    print(f\"Exact probability that X lies in [ -{k}, {k}]: {prob:.6f}\")"
   ]
  },
  {
   "cell_type": "markdown",
   "metadata": {},
   "source": [
    "# Integration Question 2"
   ]
  },
  {
   "cell_type": "markdown",
   "metadata": {},
   "source": [
    "## Using SciPy"
   ]
  },
  {
   "cell_type": "markdown",
   "metadata": {},
   "source": [
    "### Here we compute $$  L = 4 \\cdot 3\\int_{0}^{\\frac{\\pi}{2}} \\sqrt{1 - e^2 \\cos^2 t}\\,\\mathrm{d}t |_{e = \\frac{\\sqrt{5}}{9}} = 12 \\cdot E\\ \\Bigl(\\tfrac{\\sqrt{5}}{3}\\Bigr)$$"
   ]
  },
  {
   "cell_type": "code",
   "execution_count": 4,
   "metadata": {},
   "outputs": [
    {
     "name": "stdout",
     "output_type": "stream",
     "text": [
      "Length of the graph with SciPy: 15.865440\n"
     ]
    }
   ],
   "source": [
    "def ellipse_perimeter_scipy(a, b):\n",
    "    \"\"\"\n",
    "    Uses scipy.special.ellipe to compute 4*a*E(e^2),\n",
    "    where e^2 = 1 - (b^2 / a^2).\n",
    "    \"\"\"\n",
    "    esquared = 1 - (b**2 / a**2)  # e^2\n",
    "    return 4 * a * ellipse(esquared)\n",
    "\n",
    "approx_length_1 = ellipse_perimeter_scipy(3,2)\n",
    "print(f\"Length of the graph with SciPy: {approx_length_1:.6f}\")"
   ]
  },
  {
   "cell_type": "markdown",
   "metadata": {},
   "source": [
    "## Using the trapezodial rule"
   ]
  },
  {
   "cell_type": "markdown",
   "metadata": {},
   "source": [
    "### Here we compute $$ L = 4 \\int_{0}^{\\frac{\\pi}{2}}  \\sqrt{3^2\\,\\sin^2 t + 2^2\\,\\cos^2 t}\\,\\mathrm{d}t $$"
   ]
  },
  {
   "cell_type": "code",
   "execution_count": 5,
   "metadata": {},
   "outputs": [
    {
     "name": "stdout",
     "output_type": "stream",
     "text": [
      "Length of the graph using trapezodial: 15.865440\n"
     ]
    }
   ],
   "source": [
    "def ellipse_perimeter_direct(a, b, n=10_000):\n",
    "    \"\"\"\n",
    "    We numerically approximate the ellipse perimeter via direct integration\n",
    "    using the trapezoidal rule.\n",
    "    \"\"\"\n",
    "    # Create a grid from 0 to pi/2\n",
    "    t = np.linspace(0, np.pi/2, n)\n",
    "    # Evaluate the integrand\n",
    "    integrand = np.sqrt(a**2 * np.sin(t)**2 + b**2 * np.cos(t)**2)\n",
    "    # Approximate the integral using the trapezoidal rule\n",
    "    quarter_arc_length = np.trapz(integrand, t)\n",
    "    # Multiply by 4 to get the full perimeter\n",
    "    return 4 * quarter_arc_length\n",
    "\n",
    "approx_length_2 = ellipse_perimeter_direct(3, 2)\n",
    "print(f\"Length of the graph using trapezodial: {approx_length_2:.6f}\")"
   ]
  }
 ],
 "metadata": {
  "kernelspec": {
   "display_name": "Python 3 (ipykernel)",
   "language": "python",
   "name": "python3"
  },
  "language_info": {
   "codemirror_mode": {
    "name": "ipython",
    "version": 3
   },
   "file_extension": ".py",
   "mimetype": "text/x-python",
   "name": "python",
   "nbconvert_exporter": "python",
   "pygments_lexer": "ipython3",
   "version": "3.11.7"
  }
 },
 "nbformat": 4,
 "nbformat_minor": 4
}
